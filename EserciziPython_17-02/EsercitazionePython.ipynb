{
 "cells": [
  {
   "cell_type": "markdown",
   "id": "ae8420c8-346b-425b-bf7e-ecabbd4a067e",
   "metadata": {},
   "source": [
    "## Esercitazione Python -- 18/02/2025"
   ]
  },
  {
   "cell_type": "markdown",
   "id": "2dbec7a5-a12e-4693-ab65-a8fd067ff356",
   "metadata": {},
   "source": [
    "**Liste:**\n",
    "\n",
    "Scrivi una funzione che prende una lista di numeri e restituisce una nuova lista contenente solo i numeri pari.\n",
    "\n",
    "Crea una funzione che inverte l'ordine degli elementi in una lista (senza usare reverse() o slicing).\n",
    "\n",
    "Scrivi un programma che trova il valore più grande e il valore più piccolo in una lista.\n",
    "\n",
    "\n"
   ]
  },
  {
   "metadata": {
    "ExecuteTime": {
     "end_time": "2025-02-19T19:27:40.985477Z",
     "start_time": "2025-02-19T19:27:36.021363Z"
    }
   },
   "cell_type": "code",
   "source": [
    "from math import factorial\n",
    "\n",
    "\n",
    "def compute(lst):\n",
    "    max = lst[0]\n",
    "    min = lst[0]\n",
    "\n",
    "    # Ciclo per trovare max e min manualmente\n",
    "    for x in lst:\n",
    "        if x >= max:\n",
    "            max = x\n",
    "        if x <= min:\n",
    "            min = x\n",
    "\n",
    "    print(\"Max:\", max)\n",
    "    print(\"Min:\", min)\n",
    "\n",
    "def invert(lst):\n",
    "    temp = []\n",
    "    for index, x in enumerate(lst):\n",
    "        temp.append(lst[-1-index])\n",
    "\n",
    "    print(\"Inverted:\", temp)\n",
    "\n",
    "numbers_str = input(\"Insert a list with spaces between numbers: \").split()\n",
    "numbers = [int(x) for x in numbers_str]\n",
    "\n",
    "print(\"List:\", numbers)\n",
    "print((type(numbers[0])))\n",
    "\n",
    "compute(numbers)\n",
    "invert(numbers)\n"
   ],
   "id": "7e02c57fc6a15b06",
   "outputs": [
    {
     "name": "stdout",
     "output_type": "stream",
     "text": [
      "List: [1, 2, 3, 4, 5]\n",
      "<class 'int'>\n",
      "Max: 5\n",
      "Min: 1\n",
      "Inverted: [5, 4, 3, 2, 1]\n"
     ]
    }
   ],
   "execution_count": 1
  },
  {
   "cell_type": "markdown",
   "id": "1af6bcd2-4c2a-4c67-ae77-c1559b9e3c76",
   "metadata": {},
   "source": [
    "**Stringhe:**\n",
    "\n",
    "Scrivi una funzione che conta il numero di vocali in una stringa.\n",
    "\n",
    "Crea una funzione che verifica se una stringa è un palindromo (si legge allo stesso modo da sinistra a destra e viceversa).\n",
    "\n",
    "Scrivi un programma che converte una stringa in maiuscolo o minuscolo (a scelta dell'utente).\n"
   ]
  },
  {
   "metadata": {
    "ExecuteTime": {
     "end_time": "2025-02-19T19:27:45.879552Z",
     "start_time": "2025-02-19T19:27:43.860395Z"
    }
   },
   "cell_type": "code",
   "source": [
    "def findVocals(s):\n",
    "    vocals = 0\n",
    "    for car in s:\n",
    "        if car == 'a' or car == 'e' or car == 'i' or car == 'o' or car == 'u':\n",
    "            vocals += 1\n",
    "        if car == 'A' or car == 'E' or car == 'I' or car == 'O' or car == 'U':\n",
    "            vocals += 1\n",
    "\n",
    "    print(\"Vocals:\", vocals)\n",
    "\n",
    "def isPalindrome(s):\n",
    "    s_clean = s.replace(\" \", \"\")\n",
    "    print(s_clean == s_clean[::-1])\n",
    "\n",
    "def convert(s, n):\n",
    "\n",
    "    match n:\n",
    "\n",
    "        case 0:\n",
    "            print(s.lower())\n",
    "        case 1:\n",
    "            print(s.upper())\n",
    "        case _: print(\"Error\")\n",
    "\n",
    "\n",
    "\n",
    "s_input = (\"stella won no wallets\")\n",
    "s = s_input.lower()\n",
    "findVocals(s)\n",
    "isPalindrome(s)\n",
    "choice = input(\"Insert 0 for lower and 1 for upper: \")\n",
    "if choice == \"0\" or choice == \"1\":\n",
    "    convert(s, int(choice))\n",
    "else:\n",
    "    print(\"No valid number inserted\")\n"
   ],
   "id": "aebf36709fea8904",
   "outputs": [
    {
     "name": "stdout",
     "output_type": "stream",
     "text": [
      "Vocals: 6\n",
      "True\n",
      "STELLA WON NO WALLETS\n"
     ]
    }
   ],
   "execution_count": 2
  },
  {
   "cell_type": "markdown",
   "id": "c9b84acc-0820-455c-8ca5-3208908ff49a",
   "metadata": {},
   "source": [
    "**Dizionari:**\n",
    "\n",
    "Crea un dizionario che contenga alcune parole italiane e le loro traduzioni in inglese. Scrivi un programma che chieda all'utente una parola italiana e restituisca la sua traduzione inglese, oppure un messaggio se la parola non è presente nel dizionario.\n",
    "\n",
    "\n",
    "Scrivi una funzione che prenda in input un dizionario e una chiave, e restituisca True se la chiave è presente nel dizionario, False altrimenti.\n",
    "\n"
   ]
  },
  {
   "metadata": {
    "ExecuteTime": {
     "end_time": "2025-02-19T19:27:54.597401Z",
     "start_time": "2025-02-19T19:27:51.958029Z"
    }
   },
   "cell_type": "code",
   "source": [
    "dizionario = {\n",
    "    \"gatto\": \"cat\",\n",
    "    \"cane\": \"dog\",\n",
    "    \"uccello\": \"bird\",\n",
    "    \"pesce\": \"fish\",\n",
    "    \"elefante\": \"elephant\",\n",
    "    \"leone\": \"lion\",\n",
    "    \"tigre\": \"tiger\",\n",
    "    \"orso\": \"bear\",\n",
    "    \"scimmia\": \"monkey\",\n",
    "    \"cavallo\": \"horse\"\n",
    "}\n",
    "\n",
    "def traduci_parola(dizionario, parola):\n",
    "    if parola in dizionario:\n",
    "        return dizionario[parola]\n",
    "    else:\n",
    "        return \"La parola non è presente nel dizionario.\"\n",
    "\n",
    "def cercaChiave(dizionario, parola):\n",
    "    print(parola in dizionario)\n",
    "\n",
    "parola_italiana = input(\"Inserisci una parola italiana: \")\n",
    "traduzione = traduci_parola(dizionario, parola_italiana)\n",
    "print(\"Traduzione:\", traduzione)\n",
    "\n",
    "cercaChiave(dizionario, parola_italiana)\n",
    "\n"
   ],
   "id": "24737ffdf28444c0",
   "outputs": [
    {
     "name": "stdout",
     "output_type": "stream",
     "text": [
      "Traduzione: bird\n",
      "True\n"
     ]
    }
   ],
   "execution_count": 3
  },
  {
   "cell_type": "markdown",
   "id": "c1dd66ca-a61e-41b9-b6a7-b6b49387bac4",
   "metadata": {},
   "source": [
    "**Cicli for:**\n",
    "\n",
    "Scrivi un programma che stampa i numeri da 1 a 10 usando un ciclo for.\n",
    "\n",
    "Crea una funzione che calcola la somma dei numeri in una lista usando un ciclo for.\n",
    "\n",
    "Scrivi un programma che stampa una tabella di moltiplicazione (ad esempio, da 1 a 10) usando cicli for annidati.\n"
   ]
  },
  {
   "metadata": {
    "ExecuteTime": {
     "end_time": "2025-02-19T19:30:05.858684Z",
     "start_time": "2025-02-19T19:30:05.854845Z"
    }
   },
   "cell_type": "code",
   "source": [
    "#1\n",
    "for x in range(1, 11):\n",
    "    print(x)\n",
    "#2\n",
    "def sumList(lst):\n",
    "    sum = 0\n",
    "    for x in lst:\n",
    "        sum += x\n",
    "\n",
    "    print(sum)\n",
    "\n",
    "l = [1, -2, 3, 4, 5, 6]\n",
    "sumList(l)"
   ],
   "id": "6c3b1a9b6f965b87",
   "outputs": [
    {
     "name": "stdout",
     "output_type": "stream",
     "text": [
      "1\n",
      "2\n",
      "3\n",
      "4\n",
      "5\n",
      "6\n",
      "7\n",
      "8\n",
      "9\n",
      "10\n",
      "17\n"
     ]
    }
   ],
   "execution_count": 6
  },
  {
   "metadata": {
    "ExecuteTime": {
     "end_time": "2025-02-19T19:32:01.814204Z",
     "start_time": "2025-02-19T19:32:01.811416Z"
    }
   },
   "cell_type": "code",
   "source": [
    "#3\n",
    "for x in range(1, 11):\n",
    "    for y in range(1, 11):\n",
    "        print(x*y, end=\"\\t\")\n",
    "    print()"
   ],
   "id": "d72e5bd7bca20eb9",
   "outputs": [
    {
     "name": "stdout",
     "output_type": "stream",
     "text": [
      "1\t2\t3\t4\t5\t6\t7\t8\t9\t10\t\n",
      "2\t4\t6\t8\t10\t12\t14\t16\t18\t20\t\n",
      "3\t6\t9\t12\t15\t18\t21\t24\t27\t30\t\n",
      "4\t8\t12\t16\t20\t24\t28\t32\t36\t40\t\n",
      "5\t10\t15\t20\t25\t30\t35\t40\t45\t50\t\n",
      "6\t12\t18\t24\t30\t36\t42\t48\t54\t60\t\n",
      "7\t14\t21\t28\t35\t42\t49\t56\t63\t70\t\n",
      "8\t16\t24\t32\t40\t48\t56\t64\t72\t80\t\n",
      "9\t18\t27\t36\t45\t54\t63\t72\t81\t90\t\n",
      "10\t20\t30\t40\t50\t60\t70\t80\t90\t100\t\n"
     ]
    }
   ],
   "execution_count": 8
  },
  {
   "cell_type": "markdown",
   "id": "9ac6c2c6-431c-45f9-8962-8e4301422c46",
   "metadata": {},
   "source": [
    "**Cicli while:**\n",
    "\n",
    "\n",
    "Crea una funzione che calcola il fattoriale di un numero usando un ciclo while.\n",
    "\n",
    "Scrivi un programma che stampa i numeri pari da 0 a 100 usando un ciclo while.\n"
   ]
  },
  {
   "metadata": {
    "ExecuteTime": {
     "end_time": "2025-02-19T19:35:38.407424Z",
     "start_time": "2025-02-19T19:35:36.851811Z"
    }
   },
   "cell_type": "code",
   "source": [
    "#1\n",
    "def doFactorial(x):\n",
    "    result = 1\n",
    "    while x > 0:\n",
    "        result *= x\n",
    "        x = x - 1\n",
    "\n",
    "    print(result)\n",
    "\n",
    "\n",
    "\n",
    "x = int(input(\"Insert a number: \"))\n",
    "doFactorial(x)"
   ],
   "id": "eb22c020ddba2148",
   "outputs": [
    {
     "name": "stdout",
     "output_type": "stream",
     "text": [
      "120\n"
     ]
    }
   ],
   "execution_count": 16
  },
  {
   "metadata": {
    "ExecuteTime": {
     "end_time": "2025-02-19T19:36:46.105315Z",
     "start_time": "2025-02-19T19:36:46.097768Z"
    }
   },
   "cell_type": "code",
   "source": [
    "#2\n",
    "x = 0\n",
    "while x < 100:\n",
    "    if x % 2 == 0:\n",
    "        print(x, end=' ')\n",
    "    x = x + 1\n"
   ],
   "id": "89779025bf17cdf9",
   "outputs": [
    {
     "name": "stdout",
     "output_type": "stream",
     "text": [
      "0 2 4 6 8 10 12 14 16 18 20 22 24 26 28 30 32 34 36 38 40 42 44 46 48 50 52 54 56 58 60 62 64 66 68 70 72 74 76 78 80 82 84 86 88 90 92 94 96 98 "
     ]
    }
   ],
   "execution_count": 18
  },
  {
   "cell_type": "markdown",
   "id": "0af7c6c7-68c3-448a-a297-76fa2875130a",
   "metadata": {},
   "source": [
    "**List comprehension:**\n",
    "\n",
    "Usa una list comprehension per creare una nuova lista contenente i quadrati dei numeri da 1 a 10.\n",
    "\n",
    "Usa una list comprehension per filtrare una lista di stringhe e ottenere solo quelle che iniziano con una determinata lettera.\n",
    "\n",
    "Usa una list comprehension per creare un dizionario dove le chiavi sono i numeri da 1 a 5 e i valori sono i loro quadrati.\n"
   ]
  },
  {
   "metadata": {
    "ExecuteTime": {
     "end_time": "2025-02-19T19:40:39.978877Z",
     "start_time": "2025-02-19T19:40:39.972039Z"
    }
   },
   "cell_type": "code",
   "source": [
    "#1\n",
    "l = [x**2 for x in range(1, 11)]\n",
    "print(l)"
   ],
   "id": "356c4dfe1cdb7ab2",
   "outputs": [
    {
     "name": "stdout",
     "output_type": "stream",
     "text": [
      "[1, 4, 9, 16, 25, 36, 49, 64, 81, 100]\n"
     ]
    }
   ],
   "execution_count": 20
  },
  {
   "metadata": {
    "ExecuteTime": {
     "end_time": "2025-02-19T19:45:21.639521Z",
     "start_time": "2025-02-19T19:45:21.636021Z"
    }
   },
   "cell_type": "code",
   "source": [
    "#2\n",
    "l = [\n",
    "    \"sun\",\n",
    "    \"moon\",\n",
    "    \"star\",\n",
    "    \"tree\",\n",
    "    \"flower\",\n",
    "    \"sea\",\n",
    "    \"mountain\",\n",
    "    \"river\",\n",
    "    \"city\",\n",
    "    \"village\",\n",
    "    \"school\",\n",
    "    \"book\",\n",
    "    \"dog\",\n",
    "    \"cat\",\n",
    "    \"bird\"\n",
    "]\n",
    "res = [s for s in l if s[0] == \"s\"]\n",
    "print(res)"
   ],
   "id": "15979158dcaa3c7e",
   "outputs": [
    {
     "name": "stdout",
     "output_type": "stream",
     "text": [
      "['sun', 'star', 'sea', 'school']\n"
     ]
    }
   ],
   "execution_count": 26
  },
  {
   "metadata": {
    "ExecuteTime": {
     "end_time": "2025-02-19T19:46:44.810106Z",
     "start_time": "2025-02-19T19:46:44.804691Z"
    }
   },
   "cell_type": "code",
   "source": [
    "#3\n",
    "dictionary = {x:x**2 for x in range(1, 6)}\n",
    "print(dictionary)"
   ],
   "id": "48cd373af2180e96",
   "outputs": [
    {
     "name": "stdout",
     "output_type": "stream",
     "text": [
      "{1: 1, 2: 4, 3: 9, 4: 16, 5: 25}\n"
     ]
    }
   ],
   "execution_count": 27
  },
  {
   "cell_type": "markdown",
   "id": "4866ecae-6286-4d11-97ed-dccc4a6ef325",
   "metadata": {},
   "source": [
    "**If, else, elif:**\n",
    "\n",
    "Scrivi una funzione che determina se un numero è positivo, negativo o zero.\n",
    "\n",
    "Scrivi un programma che calcola il prezzo di un biglietto del cinema in base all'eta"
   ]
  },
  {
   "metadata": {
    "ExecuteTime": {
     "end_time": "2025-02-19T19:49:16.057137Z",
     "start_time": "2025-02-19T19:49:14.637573Z"
    }
   },
   "cell_type": "code",
   "source": [
    "#1\n",
    "def checkSign(n):\n",
    "    if n < 0:\n",
    "        print (\"Negative\")\n",
    "    if n > 0:\n",
    "        print (\"Positive\")\n",
    "    if n == 0:\n",
    "        print (\"Zero\")\n",
    "\n",
    "n = int(input(\"Insert a number: \"))\n",
    "checkSign(n)\n"
   ],
   "id": "41c2d59f6a9d40c3",
   "outputs": [
    {
     "name": "stdout",
     "output_type": "stream",
     "text": [
      "Zero\n"
     ]
    }
   ],
   "execution_count": 32
  },
  {
   "metadata": {
    "ExecuteTime": {
     "end_time": "2025-02-19T19:53:12.299480Z",
     "start_time": "2025-02-19T19:53:10.632807Z"
    }
   },
   "cell_type": "code",
   "source": [
    "#2\n",
    "def ticket_price(age):\n",
    "    match age:\n",
    "        case age if 0 <= age <= 10:\n",
    "            return 0\n",
    "        case age if 11 <= age <= 25:\n",
    "            return 6\n",
    "        case age if 26 <= age <= 60:\n",
    "            return 8\n",
    "        case age if age > 60:\n",
    "            return 5\n",
    "        case _:\n",
    "            return \"Invalid age\"\n",
    "\n",
    "\n",
    "age = int(input(\"Insert a age: \"))\n",
    "price = ticket_price(age)\n",
    "print(\"Price for the ticket: \", price, \"$\")"
   ],
   "id": "5b2db24aa9d2fef7",
   "outputs": [
    {
     "name": "stdout",
     "output_type": "stream",
     "text": [
      "Price for the ticket:  8 $\n"
     ]
    }
   ],
   "execution_count": 38
  },
  {
   "cell_type": "markdown",
   "id": "840b7e68-db5a-4919-bfce-54ad348ce17d",
   "metadata": {},
   "source": [
    "**Matchcase**"
   ]
  },
  {
   "cell_type": "markdown",
   "id": "9f329943-6fc4-429a-91c4-1d1210b0eff2",
   "metadata": {},
   "source": [
    "Scrivi una funzione che prenda in input un numero intero compreso tra 0 e 5 e restituisca la sua rappresentazione in parole (zero, uno, due, tre, quattro, cinque). Utilizza match/case per implementare la logica."
   ]
  },
  {
   "metadata": {
    "ExecuteTime": {
     "end_time": "2025-02-19T19:54:36.404488Z",
     "start_time": "2025-02-19T19:54:34.902771Z"
    }
   },
   "cell_type": "code",
   "source": [
    "def numero_in_parole(numero):\n",
    "    match numero:\n",
    "        case 0:\n",
    "            return \"zero\"\n",
    "        case 1:\n",
    "            return \"uno\"\n",
    "        case 2:\n",
    "            return \"due\"\n",
    "        case 3:\n",
    "            return \"tre\"\n",
    "        case 4:\n",
    "            return \"quattro\"\n",
    "        case 5:\n",
    "            return \"cinque\"\n",
    "        case _:\n",
    "            return \"Numero non valido, inserisci un numero tra 0 e 5\"\n",
    "\n",
    "n = int(input(\"Inserisci un numero da 1 a 5\"))\n",
    "numero_in_parole(n)\n"
   ],
   "id": "c18bbc0b21bea76c",
   "outputs": [
    {
     "data": {
      "text/plain": [
       "'due'"
      ]
     },
     "execution_count": 41,
     "metadata": {},
     "output_type": "execute_result"
    }
   ],
   "execution_count": 41
  }
 ],
 "metadata": {
  "kernelspec": {
   "display_name": "Python 3 (ipykernel)",
   "language": "python",
   "name": "python3"
  },
  "language_info": {
   "codemirror_mode": {
    "name": "ipython",
    "version": 3
   },
   "file_extension": ".py",
   "mimetype": "text/x-python",
   "name": "python",
   "nbconvert_exporter": "python",
   "pygments_lexer": "ipython3",
   "version": "3.11.5"
  }
 },
 "nbformat": 4,
 "nbformat_minor": 5
}
