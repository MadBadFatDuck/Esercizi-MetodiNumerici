{
 "cells": [
  {
   "cell_type": "markdown",
   "id": "ae8420c8-346b-425b-bf7e-ecabbd4a067e",
   "metadata": {},
   "source": [
    "## Esercitazione Python -- 18/02/2025"
   ]
  },
  {
   "cell_type": "markdown",
   "id": "2dbec7a5-a12e-4693-ab65-a8fd067ff356",
   "metadata": {},
   "source": [
    "**Liste:**\n",
    "\n",
    "Scrivi una funzione che prende una lista di numeri e restituisce una nuova lista contenente solo i numeri pari.\n",
    "\n",
    "Crea una funzione che inverte l'ordine degli elementi in una lista (senza usare reverse() o slicing).\n",
    "\n",
    "Scrivi un programma che trova il valore più grande e il valore più piccolo in una lista.\n",
    "\n",
    "\n"
   ]
  },
  {
   "metadata": {
    "ExecuteTime": {
     "end_time": "2025-02-19T18:29:45.641793Z",
     "start_time": "2025-02-19T18:29:40.100051Z"
    }
   },
   "cell_type": "code",
   "source": [
    "def compute(lst):\n",
    "    max = lst[0]\n",
    "    min = lst[0]\n",
    "\n",
    "    # Ciclo per trovare max e min manualmente\n",
    "    for x in lst:\n",
    "        if x >= max:\n",
    "            max = x\n",
    "        if x <= min:\n",
    "            min = x\n",
    "\n",
    "    print(\"Max:\", max)\n",
    "    print(\"Min:\", min)\n",
    "\n",
    "def invert(lst):\n",
    "    temp = []\n",
    "    for index, x in enumerate(lst):\n",
    "        temp.append(lst[-1-index])\n",
    "\n",
    "    print(\"Inverted:\", temp)\n",
    "\n",
    "numbers_str = input(\"Insert a list with spaces between numbers: \").split()\n",
    "numbers = [int(x) for x in numbers_str]\n",
    "\n",
    "print(\"List:\", numbers)\n",
    "print((type(numbers[0])))\n",
    "\n",
    "compute(numbers)\n",
    "invert(numbers)\n"
   ],
   "id": "7e02c57fc6a15b06",
   "outputs": [
    {
     "name": "stdout",
     "output_type": "stream",
     "text": [
      "List: [1, 2, 3, 4, 5]\n",
      "<class 'int'>\n",
      "Max: 5\n",
      "Min: 1\n",
      "Inverted: [5, 4, 3, 2, 1]\n"
     ]
    }
   ],
   "execution_count": 1
  },
  {
   "cell_type": "markdown",
   "id": "1af6bcd2-4c2a-4c67-ae77-c1559b9e3c76",
   "metadata": {},
   "source": [
    "**Stringhe:**\n",
    "\n",
    "Scrivi una funzione che conta il numero di vocali in una stringa.\n",
    "\n",
    "Crea una funzione che verifica se una stringa è un palindromo (si legge allo stesso modo da sinistra a destra e viceversa).\n",
    "\n",
    "Scrivi un programma che converte una stringa in maiuscolo o minuscolo (a scelta dell'utente).\n"
   ]
  },
  {
   "metadata": {
    "ExecuteTime": {
     "end_time": "2025-02-19T18:18:46.698463Z",
     "start_time": "2025-02-19T18:18:45.627304Z"
    }
   },
   "cell_type": "code",
   "source": [
    "def findVocals(s):\n",
    "    vocals = 0\n",
    "    for car in s:\n",
    "        if car == 'a' or car == 'e' or car == 'i' or car == 'o' or car == 'u':\n",
    "            vocals += 1\n",
    "        if car == 'A' or car == 'E' or car == 'I' or car == 'O' or car == 'U':\n",
    "            vocals += 1\n",
    "\n",
    "    print(\"Vocals:\", vocals)\n",
    "\n",
    "def isPalindrome(s):\n",
    "    s_clean = s.replace(\" \", \"\")\n",
    "    print(s_clean == s_clean[::-1])\n",
    "\n",
    "def convert(s, n):\n",
    "\n",
    "    match n:\n",
    "\n",
    "        case 0:\n",
    "            print(s.lower())\n",
    "        case 1:\n",
    "            print(s.upper())\n",
    "        case _: print(\"Error\")\n",
    "\n",
    "\n",
    "\n",
    "s_input = (\"stella won no wallets\")\n",
    "s = s_input.lower()\n",
    "findVocals(s)\n",
    "isPalindrome(s)\n",
    "choice = input(\"Insert 0 for lower and 1 for upper: \")\n",
    "if choice == \"0\" or choice == \"1\":\n",
    "    convert(s, int(choice))\n",
    "else:\n",
    "    print(\"No valid number inserted\")\n"
   ],
   "id": "aebf36709fea8904",
   "outputs": [
    {
     "name": "stdout",
     "output_type": "stream",
     "text": [
      "Vocals: 6\n",
      "True\n",
      "STELLA WON NO WALLETS\n"
     ]
    }
   ],
   "execution_count": 73
  },
  {
   "cell_type": "markdown",
   "id": "c9b84acc-0820-455c-8ca5-3208908ff49a",
   "metadata": {},
   "source": [
    "**Dizionari:**\n",
    "\n",
    "Crea un dizionario che contenga alcune parole italiane e le loro traduzioni in inglese. Scrivi un programma che chieda all'utente una parola italiana e restituisca la sua traduzione inglese, oppure un messaggio se la parola non è presente nel dizionario.\n",
    "\n",
    "\n",
    "Scrivi una funzione che prenda in input un dizionario e una chiave, e restituisca True se la chiave è presente nel dizionario, False altrimenti.\n",
    "\n"
   ]
  },
  {
   "metadata": {
    "ExecuteTime": {
     "end_time": "2025-02-19T18:28:33.731422Z",
     "start_time": "2025-02-19T18:28:28.901666Z"
    }
   },
   "cell_type": "code",
   "source": [
    "dizionario = {\n",
    "    \"gatto\": \"cat\",\n",
    "    \"cane\": \"dog\",\n",
    "    \"uccello\": \"bird\",\n",
    "    \"pesce\": \"fish\",\n",
    "    \"elefante\": \"elephant\",\n",
    "    \"leone\": \"lion\",\n",
    "    \"tigre\": \"tiger\",\n",
    "    \"orso\": \"bear\",\n",
    "    \"scimmia\": \"monkey\",\n",
    "    \"cavallo\": \"horse\"\n",
    "}\n",
    "\n",
    "def traduci_parola(dizionario, parola):\n",
    "    if parola in dizionario:\n",
    "        return dizionario[parola]\n",
    "    else:\n",
    "        return \"La parola non è presente nel dizionario.\"\n",
    "\n",
    "def cercaChiave(dizionario, parola):\n",
    "    print(parola in dizionario)\n",
    "\n",
    "parola_italiana = input(\"Inserisci una parola italiana: \")\n",
    "traduzione = traduci_parola(dizionario, parola_italiana)\n",
    "print(\"Traduzione:\", traduzione)\n",
    "\n",
    "cercaChiave(dizionario, parola_italiana)\n",
    "\n"
   ],
   "id": "24737ffdf28444c0",
   "outputs": [
    {
     "name": "stdout",
     "output_type": "stream",
     "text": [
      "Traduzione: lion\n",
      "True\n"
     ]
    }
   ],
   "execution_count": 1
  },
  {
   "cell_type": "markdown",
   "id": "c1dd66ca-a61e-41b9-b6a7-b6b49387bac4",
   "metadata": {},
   "source": [
    "**Cicli for:**\n",
    "\n",
    "Scrivi un programma che stampa i numeri da 1 a 10 usando un ciclo for.\n",
    "\n",
    "Crea una funzione che calcola la somma dei numeri in una lista usando un ciclo for.\n",
    "\n",
    "Scrivi un programma che stampa una tabella di moltiplicazione (ad esempio, da 1 a 10) usando cicli for annidati.\n"
   ]
  },
  {
   "cell_type": "markdown",
   "id": "9ac6c2c6-431c-45f9-8962-8e4301422c46",
   "metadata": {},
   "source": [
    "**Cicli while:**\n",
    "\n",
    "\n",
    "Crea una funzione che calcola il fattoriale di un numero usando un ciclo while.\n",
    "\n",
    "Scrivi un programma che stampa i numeri pari da 0 a 100 usando un ciclo while.\n"
   ]
  },
  {
   "cell_type": "markdown",
   "id": "0af7c6c7-68c3-448a-a297-76fa2875130a",
   "metadata": {},
   "source": [
    "**List comprehension:**\n",
    "\n",
    "Usa una list comprehension per creare una nuova lista contenente i quadrati dei numeri da 1 a 10.\n",
    "\n",
    "Usa una list comprehension per filtrare una lista di stringhe e ottenere solo quelle che iniziano con una determinata lettera.\n",
    "\n",
    "Usa una list comprehension per creare un dizionario dove le chiavi sono i numeri da 1 a 5 e i valori sono i loro quadrati.\n"
   ]
  },
  {
   "cell_type": "markdown",
   "id": "4866ecae-6286-4d11-97ed-dccc4a6ef325",
   "metadata": {},
   "source": [
    "**If, else, elif:**\n",
    "\n",
    "Scrivi una funzione che determina se un numero è positivo, negativo o zero.\n",
    "\n",
    "Scrivi un programma che calcola il prezzo di un biglietto del cinema in base all'eta"
   ]
  },
  {
   "cell_type": "markdown",
   "id": "840b7e68-db5a-4919-bfce-54ad348ce17d",
   "metadata": {},
   "source": [
    "**Matchcase**"
   ]
  },
  {
   "cell_type": "markdown",
   "id": "9f329943-6fc4-429a-91c4-1d1210b0eff2",
   "metadata": {},
   "source": [
    "Scrivi una funzione che prenda in input un numero intero compreso tra 0 e 5 e restituisca la sua rappresentazione in parole (zero, uno, due, tre, quattro, cinque). Utilizza match/case per implementare la logica."
   ]
  },
  {
   "cell_type": "code",
   "execution_count": null,
   "id": "1cd2be24-835f-47d2-9c22-6c4780d40a30",
   "metadata": {},
   "outputs": [],
   "source": []
  }
 ],
 "metadata": {
  "kernelspec": {
   "display_name": "Python 3 (ipykernel)",
   "language": "python",
   "name": "python3"
  },
  "language_info": {
   "codemirror_mode": {
    "name": "ipython",
    "version": 3
   },
   "file_extension": ".py",
   "mimetype": "text/x-python",
   "name": "python",
   "nbconvert_exporter": "python",
   "pygments_lexer": "ipython3",
   "version": "3.11.5"
  }
 },
 "nbformat": 4,
 "nbformat_minor": 5
}
